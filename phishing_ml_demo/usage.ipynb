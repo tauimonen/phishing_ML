{
 "cells": [
  {
   "cell_type": "markdown",
   "id": "dc017a0b",
   "metadata": {},
   "source": [
    "# Phishing_ML — Model Evaluation Notebook\n",
    "\n",
    "### Overview:\n",
    "This notebook demonstrates the training and evaluation of machine learning models \n",
    "for phishing website detection using the `phishing_ml` package.\n",
    "\n",
    "Two approaches are compared:\n",
    "1. Decision Tree (baseline model decision_tree.py)\n",
    "2. AutoML (automated model selection and optimization automl_model.py)\n",
    "\n",
    "Workflow:\n",
    "- Load and preprocess dataset\n",
    "- Train and evaluate the Decision Tree model\n",
    "- Run AutoML to automatically find the best-performing model\n",
    "- Compare results and analyze model performance"
   ]
  },
  {
   "cell_type": "code",
   "execution_count": null,
   "id": "21c86fc4",
   "metadata": {},
   "outputs": [],
   "source": [
    "import sys\n",
    "import os\n",
    "\n",
    "sys.path.append(os.path.abspath(\"..\"))\n",
    "\n",
    "import decision_tree\n",
    "import automl_model"
   ]
  },
  {
   "cell_type": "code",
   "execution_count": null,
   "id": "38e3b8ca",
   "metadata": {},
   "outputs": [
    {
     "name": "stdout",
     "output_type": "stream",
     "text": [
      "Test Accuracy: 0.8937132519222072\n",
      "Cross-validation Mean Accuracy: 0.888919041157847\n",
      "Classification Report:\n",
      "               precision    recall  f1-score   support\n",
      "\n",
      "Not phishing       0.90      0.85      0.87       956\n",
      "    Phishing       0.89      0.93      0.91      1255\n",
      "\n",
      "    accuracy                           0.89      2211\n",
      "   macro avg       0.89      0.89      0.89      2211\n",
      "weighted avg       0.89      0.89      0.89      2211\n",
      "\n"
     ]
    }
   ],
   "source": [
    "# # Train Decision tree model\n",
    "dt_results = decision_tree.run_decision_tree(\"phishing.csv\")\n",
    "print(\"Test Accuracy:\", dt_results[\"accuracy\"])\n",
    "print(\"Cross-validation Mean Accuracy:\", dt_results[\"cv_mean\"])     \n",
    "print(\"Classification Report:\\n\", dt_results[\"classification_report\"])"
   ]
  },
  {
   "cell_type": "code",
   "execution_count": 12,
   "id": "dc5e2637",
   "metadata": {},
   "outputs": [
    {
     "name": "stdout",
     "output_type": "stream",
     "text": [
      "Checking whether there is an H2O instance running at http://localhost:54321. connected.\n"
     ]
    },
    {
     "data": {
      "text/html": [
       "\n",
       "<style>\n",
       "\n",
       "#h2o-table-1.h2o-container {\n",
       "  overflow-x: auto;\n",
       "}\n",
       "#h2o-table-1 .h2o-table {\n",
       "  /* width: 100%; */\n",
       "  margin-top: 1em;\n",
       "  margin-bottom: 1em;\n",
       "}\n",
       "#h2o-table-1 .h2o-table caption {\n",
       "  white-space: nowrap;\n",
       "  caption-side: top;\n",
       "  text-align: left;\n",
       "  /* margin-left: 1em; */\n",
       "  margin: 0;\n",
       "  font-size: larger;\n",
       "}\n",
       "#h2o-table-1 .h2o-table thead {\n",
       "  white-space: nowrap; \n",
       "  position: sticky;\n",
       "  top: 0;\n",
       "  box-shadow: 0 -1px inset;\n",
       "}\n",
       "#h2o-table-1 .h2o-table tbody {\n",
       "  overflow: auto;\n",
       "}\n",
       "#h2o-table-1 .h2o-table th,\n",
       "#h2o-table-1 .h2o-table td {\n",
       "  text-align: right;\n",
       "  /* border: 1px solid; */\n",
       "}\n",
       "#h2o-table-1 .h2o-table tr:nth-child(even) {\n",
       "  /* background: #F5F5F5 */\n",
       "}\n",
       "\n",
       "</style>      \n",
       "<div id=\"h2o-table-1\" class=\"h2o-container\">\n",
       "  <table class=\"h2o-table\">\n",
       "    <caption></caption>\n",
       "    <thead></thead>\n",
       "    <tbody><tr><td>H2O_cluster_uptime:</td>\n",
       "<td>1 hour 53 mins</td></tr>\n",
       "<tr><td>H2O_cluster_timezone:</td>\n",
       "<td>Europe/Helsinki</td></tr>\n",
       "<tr><td>H2O_data_parsing_timezone:</td>\n",
       "<td>UTC</td></tr>\n",
       "<tr><td>H2O_cluster_version:</td>\n",
       "<td>3.46.0.8</td></tr>\n",
       "<tr><td>H2O_cluster_version_age:</td>\n",
       "<td>21 days, 22 hours and 3 minutes</td></tr>\n",
       "<tr><td>H2O_cluster_name:</td>\n",
       "<td>H2O_from_python_Käyttäjä_u7vvd8</td></tr>\n",
       "<tr><td>H2O_cluster_total_nodes:</td>\n",
       "<td>1</td></tr>\n",
       "<tr><td>H2O_cluster_free_memory:</td>\n",
       "<td>3.841 Gb</td></tr>\n",
       "<tr><td>H2O_cluster_total_cores:</td>\n",
       "<td>8</td></tr>\n",
       "<tr><td>H2O_cluster_allowed_cores:</td>\n",
       "<td>8</td></tr>\n",
       "<tr><td>H2O_cluster_status:</td>\n",
       "<td>locked, healthy</td></tr>\n",
       "<tr><td>H2O_connection_url:</td>\n",
       "<td>http://localhost:54321</td></tr>\n",
       "<tr><td>H2O_connection_proxy:</td>\n",
       "<td>{\"http\": null, \"https\": null}</td></tr>\n",
       "<tr><td>H2O_internal_security:</td>\n",
       "<td>False</td></tr>\n",
       "<tr><td>Python_version:</td>\n",
       "<td>3.13.5 final</td></tr></tbody>\n",
       "  </table>\n",
       "</div>\n"
      ],
      "text/plain": [
       "--------------------------  -------------------------------\n",
       "H2O_cluster_uptime:         1 hour 53 mins\n",
       "H2O_cluster_timezone:       Europe/Helsinki\n",
       "H2O_data_parsing_timezone:  UTC\n",
       "H2O_cluster_version:        3.46.0.8\n",
       "H2O_cluster_version_age:    21 days, 22 hours and 3 minutes\n",
       "H2O_cluster_name:           H2O_from_python_Käyttäjä_u7vvd8\n",
       "H2O_cluster_total_nodes:    1\n",
       "H2O_cluster_free_memory:    3.841 Gb\n",
       "H2O_cluster_total_cores:    8\n",
       "H2O_cluster_allowed_cores:  8\n",
       "H2O_cluster_status:         locked, healthy\n",
       "H2O_connection_url:         http://localhost:54321\n",
       "H2O_connection_proxy:       {\"http\": null, \"https\": null}\n",
       "H2O_internal_security:      False\n",
       "Python_version:             3.13.5 final\n",
       "--------------------------  -------------------------------"
      ]
     },
     "metadata": {},
     "output_type": "display_data"
    },
    {
     "name": "stdout",
     "output_type": "stream",
     "text": [
      "Parse progress: |████████████████████████████████████████████████████████████████| (done) 100%\n",
      "AutoML progress: |█\n",
      "13:26:19.639: AutoML: XGBoost is not available; skipping it.\n",
      "\n",
      "██████████████████████████████████████████████████████████████| (done) 100%\n",
      "Test Accuracy: 0.9723884031293143\n",
      "Test AUC: 0.9964556353681246\n",
      "Best Model ID: StackedEnsemble_AllModels_1_AutoML_3_20251030_132619\n"
     ]
    }
   ],
   "source": [
    "# Train AutoML models\n",
    "aml_results = automl_model.run_automl(\"phishing.csv\")\n",
    "\n",
    "print(\"Test Accuracy:\", aml_results[\"test_accuracy\"])\n",
    "print(\"Test AUC:\", aml_results[\"test_auc\"])\n",
    "print(\"Best Model ID:\", aml_results[\"best_model\"].model_id)\n"
   ]
  },
  {
   "cell_type": "markdown",
   "id": "5de913be",
   "metadata": {},
   "source": [
    "## Results\n",
    "\n",
    "### **Decision Tree Model**\n",
    "**Performance Summary:**\n",
    "- **Test Accuracy:** `0.8937`\n",
    "- **Cross-Validation Mean Accuracy:** `0.8889`\n",
    "\n",
    "**Classification Report:**\n",
    "| Class         | Precision | Recall | F1-Score | Support |\n",
    "|----------------|------------|---------|-----------|----------|\n",
    "| Not phishing   | 0.90       | 0.85    | 0.87      | 956      |\n",
    "| Phishing       | 0.89       | 0.93    | 0.91      | 1255     |\n",
    "| **Overall**    | **0.89**   | **0.89**| **0.89**  | **2211** |\n",
    "\n",
    "The Decision Tree achieved balanced performance across both classes and provides a good interpretable baseline.\n",
    "\n",
    "---\n",
    "\n",
    "### **AutoML Model**\n",
    "**Performance Summary:**\n",
    "- **Test Accuracy:** `0.9724`\n",
    "- **Test AUC:** `0.9965`\n",
    "- **Best Model:** `StackedEnsemble_AllModels_1_AutoML_3_20251030_132619`\n",
    "\n",
    "> Note: XGBoost was not available during training and was skipped automatically.\n",
    "\n",
    "The AutoML model (a stacked ensemble) significantly outperformed the Decision Tree, showing excellent generalization and near-perfect discriminative power.\n",
    "\n",
    "---\n",
    "\n",
    "## Conclusion\n",
    "- The **Decision Tree** provides interpretability and consistency.  \n",
    "- The **AutoML Stacked Ensemble** delivers superior performance, making it the best choice for deployment.  \n",
    "\n",
    "## Possible Next Steps\n",
    "- Deploy the best model as a prediction API or web service\n",
    "- Add SHAP or feature importance analysis for explainability\n",
    "- Extend dataset and evaluate real-world phishing URLs"
   ]
  },
  {
   "cell_type": "markdown",
   "id": "44785686",
   "metadata": {},
   "source": []
  }
 ],
 "metadata": {
  "kernelspec": {
   "display_name": "base",
   "language": "python",
   "name": "python3"
  },
  "language_info": {
   "codemirror_mode": {
    "name": "ipython",
    "version": 3
   },
   "file_extension": ".py",
   "mimetype": "text/x-python",
   "name": "python",
   "nbconvert_exporter": "python",
   "pygments_lexer": "ipython3",
   "version": "3.13.5"
  }
 },
 "nbformat": 4,
 "nbformat_minor": 5
}
